{
 "cells": [
  {
   "cell_type": "markdown",
   "metadata": {},
   "source": [
    "# Lab 01: Introduction to Linux Bash shell\n",
    "\n"
   ]
  },
  {
   "cell_type": "markdown",
   "metadata": {},
   "source": [
    "### Linux\n",
    "The Linux open source operating system, or Linux OS, is a freely distributable, cross-platform operating system based on Unix that can be installed on PCs, laptops, netbooks, mobile and tablet devices, video game consoles, servers, supercomputers and more.\n",
    "It is written in C, and was initially released in September 17,1991 by Linus Torvalds."
   ]
  },
  {
   "cell_type": "markdown",
   "metadata": {},
   "source": [
    "![Linux official Mascot](Tux.png)"
   ]
  },
  {
   "cell_type": "markdown",
   "metadata": {},
   "source": [
    "## Basic Terminal Shortcuts\n",
    "CTRL L = Clear the terminal <br>\n",
    "CTRL D = Logout <br>\n",
    "SHIFT Page Up/Down = Go up/down the terminal <br>\n",
    "CTRL A = Cursor to start of line <br>\n",
    "CTRL E = Cursor to end of line <br>\n",
    "CTRL U = Delete left of the cursor <br>\n",
    "CTRL K = Delete right of the cursor <br>\n",
    "CTRL W = Delete word on the left <br>\n",
    "CTRL Y = Paste (after CTRL U,K or W) <br>\n",
    "TAB = Auto completion of file or command <br>\n",
    "CTRL R = reverse search history <br>\n",
    "!! = Repeat last command <br>\n",
    "CTRL C = cancel current command <br>\n",
    "CTRL Z = stops current command"
   ]
  },
  {
   "cell_type": "markdown",
   "metadata": {},
   "source": [
    "### General command format\n",
    "__ $ command [options] [arguments] __"
   ]
  },
  {
   "cell_type": "markdown",
   "metadata": {},
   "source": [
    "## Basic Terminal Navigation"
   ]
  },
  {
   "cell_type": "markdown",
   "metadata": {},
   "source": [
    "__pwd__ command prints working directory."
   ]
  },
  {
   "cell_type": "code",
   "execution_count": 2,
   "metadata": {},
   "outputs": [
    {
     "name": "stdout",
     "output_type": "stream",
     "text": [
      "/home/zen\n"
     ]
    }
   ],
   "source": [
    "pwd"
   ]
  },
  {
   "cell_type": "markdown",
   "metadata": {},
   "source": [
    "__ls__ command lists the files and folder in that location"
   ]
  },
  {
   "cell_type": "code",
   "execution_count": 3,
   "metadata": {},
   "outputs": [
    {
     "name": "stdout",
     "output_type": "stream",
     "text": [
      "\u001b[0m\u001b[01;34manaconda3\u001b[0m              \u001b[01;34mfritzing\u001b[0m                     \u001b[01;34mPublic\u001b[0m\n",
      "\u001b[01;34mAndroid\u001b[0m                \u001b[01;34mfritzing-0.9.3b.linux.AMD64\u001b[0m  reference.bib\n",
      "\u001b[01;34mandroid-studio\u001b[0m         \u001b[01;34mgaf\u001b[0m                          \u001b[01;34msketchbook\u001b[0m\n",
      "\u001b[01;34mAndroidStudioProjects\u001b[0m  hello_ML.py                  \u001b[01;34msnap\u001b[0m\n",
      "\u001b[01;34mBlender_add_ons\u001b[0m        \u001b[01;34mjava\u001b[0m                         \u001b[01;34mspyder\u001b[0m\n",
      "\u001b[01;34mdeja-dup\u001b[0m               \u001b[01;34mjupyter-c-kernel\u001b[0m             \u001b[01;34mTemplates\u001b[0m\n",
      "\u001b[01;34mDesktop\u001b[0m                \u001b[01;34mMusic\u001b[0m                        \u001b[01;34mtensorflow\u001b[0m\n",
      "\u001b[01;34mDocuments\u001b[0m              \u001b[01;34moctave\u001b[0m                       \u001b[01;34mtest\u001b[0m\n",
      "\u001b[01;34mDownloads\u001b[0m              octave-workspace             texput.log\n",
      "\u001b[01;34meclipse\u001b[0m                OSlabSheet1.ipynb            \u001b[01;35mTux.png\u001b[0m\n",
      "\u001b[01;34meclipse-workspace\u001b[0m      \u001b[01;34mPictures\u001b[0m                     untitled.stl\n",
      "file1.txt              \u001b[01;34mPrintrun\u001b[0m                     \u001b[01;34mVideos\u001b[0m\n"
     ]
    }
   ],
   "source": [
    "ls"
   ]
  },
  {
   "cell_type": "markdown",
   "metadata": {},
   "source": [
    "__ls -l__ lists files and folders in long format"
   ]
  },
  {
   "cell_type": "code",
   "execution_count": 4,
   "metadata": {},
   "outputs": [
    {
     "name": "stdout",
     "output_type": "stream",
     "text": [
      "total 2344\n",
      "drwxrwxr-x 23 zen zen    4096 Oct  4 20:33 \u001b[0m\u001b[01;34manaconda3\u001b[0m\n",
      "drwxrwxr-x  3 zen zen    4096 Nov  9  2016 \u001b[01;34mAndroid\u001b[0m\n",
      "drwxrwxr-x  8 zen zen    4096 Oct 17  2016 \u001b[01;34mandroid-studio\u001b[0m\n",
      "drwxrwxr-x  2 zen zen    4096 Nov 13  2016 \u001b[01;34mAndroidStudioProjects\u001b[0m\n",
      "drwxrwxr-x  3 zen zen    4096 Nov  2  2016 \u001b[01;34mBlender_add_ons\u001b[0m\n",
      "drwxrwxr-x  2 zen zen    4096 Jul 18 21:54 \u001b[01;34mdeja-dup\u001b[0m\n",
      "drwxr-xr-x  3 zen zen    4096 Dec 27  2017 \u001b[01;34mDesktop\u001b[0m\n",
      "drwxr-xr-x 25 zen zen    4096 Sep 11 02:37 \u001b[01;34mDocuments\u001b[0m\n",
      "drwxr-xr-x  4 zen zen    4096 Nov 16 18:31 \u001b[01;34mDownloads\u001b[0m\n",
      "drwxrwxr-x  6 zen zen    4096 Jan 30  2018 \u001b[01;34meclipse\u001b[0m\n",
      "drwxrwxr-x  6 zen zen    4096 Jan 30  2018 \u001b[01;34meclipse-workspace\u001b[0m\n",
      "-rw-rw-r--  1 zen zen       0 Sep 23  2017 file1.txt\n",
      "drwxrwxr-x  8 zen zen    4096 Jun  2  2016 \u001b[01;34mfritzing\u001b[0m\n",
      "drwxrwxr-x  8 zen zen    4096 Jun  2  2016 \u001b[01;34mfritzing-0.9.3b.linux.AMD64\u001b[0m\n",
      "drwxrwxr-x  3 zen zen    4096 Jun 27  2017 \u001b[01;34mgaf\u001b[0m\n",
      "-rw-rw-r--  1 zen zen    2659 Jul 30  2017 hello_ML.py\n",
      "drwxrwxr-x  3 zen zen    4096 Jan 30  2018 \u001b[01;34mjava\u001b[0m\n",
      "drwxr-xr-x  4 zen zen    4096 Oct  6 17:03 \u001b[01;34mjupyter-c-kernel\u001b[0m\n",
      "drwxr-xr-x 13 zen zen    4096 Dec 30  2017 \u001b[01;34mMusic\u001b[0m\n",
      "drwxrwxr-x  7 zen zen    4096 Aug  5 13:30 \u001b[01;34moctave\u001b[0m\n",
      "-rw-rw-r--  1 zen zen 2239543 May  3  2018 octave-workspace\n",
      "-rw-r--r--  1 zen zen    7751 Nov 19 20:19 OSlabSheet1.ipynb\n",
      "drwxr-xr-x 24 zen zen   12288 Nov 11 21:31 \u001b[01;34mPictures\u001b[0m\n",
      "drwxrwxr-x 10 zen zen    4096 Jul  6  2016 \u001b[01;34mPrintrun\u001b[0m\n",
      "drwxr-xr-x  2 zen zen    4096 Jul  5  2016 \u001b[01;34mPublic\u001b[0m\n",
      "-rw-rw-r--  1 zen zen    1505 Jan 14  2018 reference.bib\n",
      "drwxrwxr-x  3 zen zen    4096 Jul  7  2016 \u001b[01;34msketchbook\u001b[0m\n",
      "drwxr-xr-x  4 zen zen    4096 Sep 29 21:23 \u001b[01;34msnap\u001b[0m\n",
      "drwxrwxr-x  2 zen zen    4096 Feb 20  2018 \u001b[01;34mspyder\u001b[0m\n",
      "drwxr-xr-x  2 zen zen    4096 Jul  5  2016 \u001b[01;34mTemplates\u001b[0m\n",
      "drwxrwxr-x  7 zen zen    4096 Jun 13  2017 \u001b[01;34mtensorflow\u001b[0m\n",
      "drwxrwxr-x  2 zen zen    4096 Aug 17  2017 \u001b[01;34mtest\u001b[0m\n",
      "-rw-rw-r--  1 zen zen     672 Aug 19  2016 texput.log\n",
      "-rw-rw-r--  1 zen zen   11913 Nov 19 19:20 \u001b[01;35mTux.png\u001b[0m\n",
      "-rw-rw-r--  1 zen zen    1084 Jul 29  2016 untitled.stl\n",
      "drwxr-xr-x 23 zen zen    4096 Sep 21 22:03 \u001b[01;34mVideos\u001b[0m\n"
     ]
    }
   ],
   "source": [
    "ls -l"
   ]
  },
  {
   "cell_type": "markdown",
   "metadata": {},
   "source": [
    "__ls -a__  lists all files and folders including the hidden files and folders"
   ]
  },
  {
   "cell_type": "markdown",
   "metadata": {},
   "source": [
    "__ls <folderName\\> __ lists files within the folder"
   ]
  },
  {
   "cell_type": "code",
   "execution_count": 9,
   "metadata": {},
   "outputs": [
    {
     "name": "stdout",
     "output_type": "stream",
     "text": [
      "applet.txt\n",
      "\u001b[0m\u001b[01;34mCIT\u001b[0m\n",
      "data-communications-and-networks-bcis-new-course.docx\n",
      "numerical-methods-bcis-new-course.doc\n",
      "operating-systems-bcis-new-course.docx\n",
      "TbN0oVjH.xls\n"
     ]
    }
   ],
   "source": [
    "ls Documents/Apex/fall2018"
   ]
  },
  {
   "cell_type": "markdown",
   "metadata": {},
   "source": [
    "__cd__ changes the directory <br>\n",
    "__cd /__ = go to root <br>\n",
    "**cd ..** go up one folder\n",
    " "
   ]
  },
  {
   "cell_type": "markdown",
   "metadata": {},
   "source": [
    "**man &lt; command &gt;** shows manual of the command supplied after it."
   ]
  },
  {
   "cell_type": "code",
   "execution_count": 11,
   "metadata": {},
   "outputs": [
    {
     "name": "stdout",
     "output_type": "stream",
     "text": [
      "PWD(1)                           User Commands                          PWD(1)\n",
      "\n",
      "NAME\n",
      "       pwd - print name of current/working directory\n",
      "\n",
      "SYNOPSIS\n",
      "       pwd [OPTION]...\n",
      "\n",
      "DESCRIPTION\n",
      "       Print the full filename of the current working directory.\n",
      "\n",
      "       -L, --logical\n",
      "              use PWD from environment, even if it contains symlinks\n",
      "\n",
      "       -P, --physical\n",
      "              avoid all symlinks\n",
      "\n",
      "       --help display this help and exit\n",
      "\n",
      "       --version\n",
      "              output version information and exit\n",
      "\n",
      "       If no option is specified, -P is assumed.\n",
      "\n",
      "       NOTE:  your shell may have its own version of pwd, which usually super‐\n",
      "       sedes the version described here.  Please refer to your  shell's  docu‐\n",
      "       mentation for details about the options it supports.\n",
      "\n",
      "AUTHOR\n",
      "       Written by Jim Meyering.\n",
      "\n",
      "REPORTING BUGS\n",
      "       GNU coreutils online help: <http://www.gnu.org/software/coreutils/>\n",
      "       Report pwd translation bugs to <http://translationproject.org/team/>\n",
      "\n",
      "COPYRIGHT\n",
      "       Copyright  ©  2017  Free Software Foundation, Inc.  License GPLv3+: GNU\n",
      "       GPL version 3 or later <http://gnu.org/licenses/gpl.html>.\n",
      "       This is free software: you are free  to  change  and  redistribute  it.\n",
      "       There is NO WARRANTY, to the extent permitted by law.\n",
      "\n",
      "SEE ALSO\n",
      "       getcwd(3)\n",
      "\n",
      "       Full documentation at: <http://www.gnu.org/software/coreutils/pwd>\n",
      "       or available locally via: info '(coreutils) pwd invocation'\n",
      "\n",
      "GNU coreutils 8.28               January 2018                           PWD(1)\n"
     ]
    }
   ],
   "source": [
    "man pwd"
   ]
  },
  {
   "cell_type": "markdown",
   "metadata": {},
   "source": [
    "******** \n",
    "********"
   ]
  },
  {
   "cell_type": "markdown",
   "metadata": {},
   "source": [
    "## Basic file manipulation\n",
    "**mkdir &lt;foldername&gt;** creates new folder <br>\n",
    "**touch &lt;filename&gt;** creates or updates new file <br>\n",
    "**mv &lt;sourceFile&gt; &lt;Destination&gt;** moves file from source location to destination <br>\n",
    "**cp &lt;sourceFile&gt; &lt;Destination&gt;** copies file from source location to destination <br>\n",
    "**mv &lt;oldFileName&gt; &lt;NewFilename&gt;** renames file <br>\n",
    "**mv &lt;fileName&gt;** removes file  <br>"
   ]
  }
 ],
 "metadata": {
  "kernelspec": {
   "display_name": "Bash",
   "language": "bash",
   "name": "bash"
  },
  "language_info": {
   "codemirror_mode": "shell",
   "file_extension": ".sh",
   "mimetype": "text/x-sh",
   "name": "bash"
  }
 },
 "nbformat": 4,
 "nbformat_minor": 2
}
